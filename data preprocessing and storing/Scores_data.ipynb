{
  "nbformat": 4,
  "nbformat_minor": 0,
  "metadata": {
    "colab": {
      "name": "Scores_data.ipynb",
      "provenance": [],
      "collapsed_sections": []
    },
    "kernelspec": {
      "name": "python3",
      "display_name": "Python 3"
    },
    "language_info": {
      "name": "python"
    }
  },
  "cells": [
    {
      "cell_type": "code",
      "execution_count": null,
      "metadata": {
        "id": "TMRVPfEixD5I"
      },
      "outputs": [],
      "source": [
        "import numpy as np\n",
        "import pandas as pd\n",
        "from sklearn.feature_extraction.text import CountVectorizer\n",
        "from sklearn.metrics.pairwise import cosine_similarity\n",
        "\n",
        "data = pd.read_csv(\"/content/main_data.csv\")\n",
        "cv = CountVectorizer()\n",
        "\n",
        "def similarity_score(n):    \n",
        "\n",
        "    if (n == 1):\n",
        "        cnt_mat = cv.fit_transform(data[\"comb\"])\n",
        "        score = cosine_similarity(cnt_mat)\n",
        "    elif (n == 2):\n",
        "        cnt_mat = cv.fit_transform(data[\"Genre\"])\n",
        "        score = cosine_similarity(cnt_mat)\n",
        "    else:\n",
        "        cnt_mat = cv.fit_transform(data[\"Cast\"])\n",
        "        score = cosine_similarity(cnt_mat)\n",
        "\n",
        "    return score"
      ]
    },
    {
      "cell_type": "code",
      "source": [
        "score_overall = pd.DataFrame(similarity_score(1))\n",
        "score_genre = pd.DataFrame(similarity_score(2))\n",
        "score_cast = pd.DataFrame(similarity_score(3))"
      ],
      "metadata": {
        "id": "R4zG7Jkr6mEg"
      },
      "execution_count": null,
      "outputs": []
    },
    {
      "cell_type": "code",
      "source": [
        "score_overall.to_csv('/content/drive/MyDrive/Movie Datasets/score_overall.csv',index = False)\n",
        "score_genre.to_csv('/content/drive/MyDrive/Movie Datasets/score_genre.csv',index = False)\n",
        "score_cast.to_csv('/content/drive/MyDrive/Movie Datasets/score_cast.csv',index = False)"
      ],
      "metadata": {
        "id": "Or7tR0XCCtnY"
      },
      "execution_count": null,
      "outputs": []
    }
  ]
}